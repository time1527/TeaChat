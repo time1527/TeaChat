{
 "cells": [
  {
   "cell_type": "code",
   "execution_count": 1,
   "metadata": {},
   "outputs": [],
   "source": [
    "import json\n",
    "from collections import defaultdict\n",
    "import pandas as pd"
   ]
  },
  {
   "cell_type": "code",
   "execution_count": 3,
   "metadata": {},
   "outputs": [],
   "source": [
    "def see_sample(path):\n",
    "    sample = []\n",
    "    with open(path,\"r\") as f:\n",
    "        for line in f:\n",
    "            item = json.loads(line) \n",
    "            if len(sample) < 10:sample.append(line)\n",
    "            else:break\n",
    "    return sample\n"
   ]
  },
  {
   "cell_type": "code",
   "execution_count": 6,
   "metadata": {},
   "outputs": [],
   "source": [
    "belle = see_sample(\"MIX_BELLE.jsonl\")"
   ]
  },
  {
   "cell_type": "code",
   "execution_count": 13,
   "metadata": {},
   "outputs": [
    {
     "data": {
      "text/plain": [
       "['对以下代码进行调试。\\ndef add(a,b):\\n  return a + b\\n  print(add(2,3)) ',\n",
       " '这段代码的问题是在函数内部， `print` 语句出现在 `return` 语句之后，也就是说函数在 `return` 语句处结束，因此 `print` 语句永远不会被执行。\\n要解决这个问题，只需在 `return` 语句之前移到 `print` 语句。修改后的代码如下所示：\\n```\\ndef add(a, b):\\n    print(a + b)\\n    return a + b\\nadd(2, 3)\\n```\\n这样就可以在调用 `add` 函数时打印出结果，并在函数内部返回 `a + b` 值，使其在需要时可以接收和使用。同时，注意在调用 `add` 函数时，不需要再使用 `print` 方法了。']"
      ]
     },
     "execution_count": 13,
     "metadata": {},
     "output_type": "execute_result"
    }
   ],
   "source": [
    "eval(belle[0])[\"data\"]"
   ]
  },
  {
   "cell_type": "code",
   "execution_count": 7,
   "metadata": {},
   "outputs": [],
   "source": [
    "others = see_sample(\"MIX_ZH-Others.jsonl\")"
   ]
  },
  {
   "cell_type": "code",
   "execution_count": 14,
   "metadata": {},
   "outputs": [
    {
     "data": {
      "text/plain": [
       "{'data': ['中国医院和医学期刊有什么区别？',\n",
       "  '中国医院是具体提供医疗服务的机构，而医学期刊是出版刊载医学学术论文为主的连续出版物。',\n",
       "  '张嘉齐、李镇、颜雪萍、孙森美、谢娅琴、罗威、陈燕飞不是中国医院的编辑吗？难道他们不属于中国医院？',\n",
       "  '他们是《中国医院》杂志的编辑，负责出版医院管理方面的学术期刊，不同于中国医院这一医疗机构。',\n",
       "  '经过评审认定的高质量学术期刊不是中国医院的医学核心期刊吗？难道中国医院没有医学核心期刊？',\n",
       "  '中国医院是医疗机构，不负责出版医学期刊。医学核心期刊是指经过评审认定的，对该领域研究有重要影响的高质量学术期刊，与中国医院这一医疗机构不直接相关。',\n",
       "  '国内公开发行不是中国医院的发行方式吗？难道中国医院采用其他的发行方式？',\n",
       "  '国内公开发行是医学期刊的一种发行方式，指经中国新闻出版总署批准，由国家直属机构、一级协会、地方性医学组织，医学院校、医院科研单位等承办的主要以刊载医学学术论文为主的连续出版物，而非指中国医院的发行方式。',\n",
       "  '老师能否重新介绍一下中国医院是什么，以及与之容易混淆的概念？',\n",
       "  '中国医院是国内医疗机构的总称，指提供医疗服务的机构。而医学期刊是与医学相关的学术出版物，分为医学核心期刊和医学学术期刊，不同于中国医院。要正确理解这两个概念的区分，有助于我们更好地了解国内医学领域的情况。'],\n",
       " 'system_prompt': '你是一个人工智能助手，名字叫EduChat。\\n- EduChat是一个由华东师范大学开发的对话式语言模型。\\nEduChat的工具\\n- Web search: Disable.\\n- Calculators: Disable.\\nEduChat的能力\\n- Inner Thought: Disable.\\n对话主题\\n- General: Enable.\\n- Psychology: Disable.\\n- Socrates: Disable.'}"
      ]
     },
     "execution_count": 14,
     "metadata": {},
     "output_type": "execute_result"
    }
   ],
   "source": [
    "eval(others[0])"
   ]
  },
  {
   "cell_type": "code",
   "execution_count": null,
   "metadata": {},
   "outputs": [],
   "source": []
  }
 ],
 "metadata": {
  "kernelspec": {
   "display_name": "teachat",
   "language": "python",
   "name": "python3"
  },
  "language_info": {
   "codemirror_mode": {
    "name": "ipython",
    "version": 3
   },
   "file_extension": ".py",
   "mimetype": "text/x-python",
   "name": "python",
   "nbconvert_exporter": "python",
   "pygments_lexer": "ipython3",
   "version": "3.10.14"
  }
 },
 "nbformat": 4,
 "nbformat_minor": 2
}

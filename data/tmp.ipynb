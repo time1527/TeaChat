{
 "cells": [
  {
   "cell_type": "code",
   "execution_count": 2,
   "metadata": {},
   "outputs": [],
   "source": [
    "import jsonlines\n",
    "\n",
    "def print_jsonl(f):\n",
    "    tmp = []\n",
    "    with jsonlines.open(f) as rdr:\n",
    "        for ob in rdr:\n",
    "            tmp.append(ob)\n",
    "    return tmp\n",
    "            \n"
   ]
  },
  {
   "cell_type": "code",
   "execution_count": 3,
   "metadata": {},
   "outputs": [
    {
     "data": {
      "text/plain": [
       "{'text': '分类是学习化学的方法之一，下列各组物质按氧化物、酸、碱、盐顺序排列的一组是（）\\n A.氢氧化铁、硝酸、烧碱、氯化钠\\n B.干冰、碳酸、纯碱、硫酸钾\\n C.水、硫酸、熟石灰、氯化钾\\n D.氨水、醋酸、氢氧化铁、食盐',\n",
       " 'raw': {'id': 'BkQQU-7xK3xjJ_puThzD',\n",
       "  'q_type': '单选题',\n",
       "  'q_main': '分类是学习化学的方法之一，下列各组物质按氧化物、酸、碱、盐顺序排列的一组是（ ）',\n",
       "  'option_a': '氢氧化铁、硝酸、烧碱、氯化钠',\n",
       "  'option_b': '干冰、碳酸、纯碱、硫酸钾',\n",
       "  'option_c': '水、硫酸、熟石灰、氯化钾',\n",
       "  'option_d': '氨水、醋酸、氢氧化铁、食盐',\n",
       "  'option_e': '',\n",
       "  'std_ans': 'C',\n",
       "  'answer': '\\n \\n C',\n",
       "  'answer_detail': '解：A、氢氧化铁是碱而不是氧化物，故A错误； \\n   \\nB、纯碱为碳酸钠，是盐不是碱，故B错误； \\n   \\nC、水是氧化物；硫酸是酸；熟石灰是氢氧化钙，是碱；氯化钾为盐，故C正确； \\n   \\nD、氨水是混合物，不是氧化物，故D错误． \\n   \\n故选C． \\n   \\n由两种元素构成、其中一种为氧元素的为氧化物； \\n   \\n电离出的阳离子全部是氢离子的化合物为酸； \\n   \\n电离出阴离子全部是氢氧根的化合物为碱； \\n   \\n阴离子是酸根离子、阳离子是金属离子或铵根离子的化合物为盐，据此分析． \\n   \\n本题考查了氧化物、酸、碱、盐的概念和辨别，难度不大，应注意基础的掌握．',\n",
       "  'grade': '高一',\n",
       "  'major': '化学',\n",
       "  'keypoint': '酸、碱、盐、氧化物及其关系'}}"
      ]
     },
     "execution_count": 3,
     "metadata": {},
     "output_type": "execute_result"
    }
   ],
   "source": [
    "after = print_jsonl(\"/home/pika/Dataset/minsft/sft_final/wanjuan/3.jsonl\")\n",
    "after[0]"
   ]
  },
  {
   "cell_type": "code",
   "execution_count": 24,
   "metadata": {},
   "outputs": [],
   "source": [
    "before = print_jsonl(\"/home/pika/Dataset/minsft/sft_filter/wanjuan/3.jsonl\")"
   ]
  },
  {
   "cell_type": "code",
   "execution_count": 25,
   "metadata": {},
   "outputs": [],
   "source": [
    "raw = print_jsonl(\"/home/pika/Dataset/minsft/wanjuan/3.jsonl\")"
   ]
  },
  {
   "cell_type": "code",
   "execution_count": 2,
   "metadata": {},
   "outputs": [],
   "source": [
    "wanjuan = print_jsonl(\"/home/pika/Dataset/sft/wanjuan/part-003756-a894b46e.jsonl\")"
   ]
  },
  {
   "cell_type": "code",
   "execution_count": 3,
   "metadata": {},
   "outputs": [
    {
     "data": {
      "text/plain": [
       "{'id': 'BkQQZR_xK3xjTFaMdcNA',\n",
       " 'q_type': '选择题',\n",
       " 'q_main': 'How much bread is there？  \\n-_____________．（ ）',\n",
       " 'option_a': '.none',\n",
       " 'option_b': 'all',\n",
       " 'option_c': '.nothing',\n",
       " 'option_d': '.any',\n",
       " 'option_e': '',\n",
       " 'std_ans': 'A',\n",
       " 'answer': '答案：A．问句中\"how much多少\"，none\"没有\"，表示数量上的没有，故选A．all所有的；nothing没有（东西，事情）；any任何．',\n",
       " 'answer_detail': '-那儿有多少面包？  \\n-没有了．',\n",
       " 'grade': '高三',\n",
       " 'major': '英语',\n",
       " 'keypoint': '不定代词'}"
      ]
     },
     "execution_count": 3,
     "metadata": {},
     "output_type": "execute_result"
    }
   ],
   "source": [
    "wanjuan[-1]"
   ]
  },
  {
   "cell_type": "code",
   "execution_count": null,
   "metadata": {},
   "outputs": [],
   "source": []
  },
  {
   "cell_type": "code",
   "execution_count": 41,
   "metadata": {},
   "outputs": [
    {
     "name": "stdout",
     "output_type": "stream",
     "text": [
      "{'id': 'BkQQV5jxK3xjS9Dqbm00', 'q_type': '单选题', 'q_main': ' 下列关于洋葱根尖有丝分裂的叙述，正确的是\\n', 'option_a': '中心体发出星射线形成纺锤体', 'option_b': '同源染色体两两配对完成联会', 'option_c': '赤道板向四周扩展形成新的细胞壁', 'option_d': '染色体复制后平分到两个子细胞中', 'option_e': '', 'std_ans': 'D', 'answer': 'D', 'answer_detail': '本题考查细胞有丝分裂不同时期的特点，要求考生识记细胞有丝分裂不同时期的特点，掌握动植物细胞有丝分裂过程的异同，能结合所学的知识准确判断各选项。\\nA.洋葱根尖细胞是高等植物细胞，没有中心体，A错误；\\nB.洋葱根尖有丝分裂过程中没有同源染色体两两配对完成联会，减数分裂才有，B错误；\\nC.细胞板向四周扩展形成新的细胞壁，不是赤道板，C错误；\\n D.染色体复制后平分到两个子细胞中，D正确。\\n故选D。\\n', 'grade': '高二', 'major': '物理', 'keypoint': '有丝分裂的过程及意义'}\n"
     ]
    }
   ],
   "source": [
    "for ob in wanjuan:\n",
    "    if ob[\"id\"] == 'BkQQV5jxK3xjS9Dqbm00':\n",
    "        print(ob)\n",
    "        break"
   ]
  },
  {
   "cell_type": "code",
   "execution_count": 28,
   "metadata": {},
   "outputs": [
    {
     "name": "stdout",
     "output_type": "stream",
     "text": [
      "{'id': 'BkQQV-7xK3xjS91W_j-h', 'q_type': '选择题', 'q_main': '（多选题）下列说法中的“快”，反映加速度较大的是( )  \\n', 'option_a': '小轿车比大卡车起动得快', 'option_b': '协和式客机能在两万米高空飞行得很快', 'option_c': '从南昌到九江，汽车走昌九高速比走105国道快得多', 'option_d': '汽车在紧急刹车的情况下，能够很快地停下来', 'option_e': '', 'std_ans': 'A|D', 'answer': 'AD  \\n', 'answer_detail': '', 'grade': '高三', 'major': '物理', 'keypoint': '9011003'}\n",
      "{'id': 'BkQQV-XxK3xjTCWDzMhU', 'q_type': '选择题', 'q_main': '下列说法错误的是（ ）', 'option_a': '物体竖直向下的运动是自由落体运动', 'option_b': '自由落体运动是初速度为零，加速度为g的竖直向下的匀加速运动', 'option_c': '物体只在重力作用下从静止开始的下落运动叫自由落体运动', 'option_d': '当空气阻力的作用比较小，可以忽略不计时，物体自由下落可视为自由落体运动', 'option_e': '', 'std_ans': 'A', 'answer': '解：A、物体竖直向下的运动不一定是自由落体运动，初速度必须是零，加速度必须是g，故A错误；  \\nB、自由落体运动是物体初速度为零且只在重力作用下的运动，加速度为重力加速度，故B正确；  \\nC、D自由落体运动是物体初速度为零且只在重力作用下的运动，当空气阻力比较小可以忽略不计时，物体自由下落可视为自由落体运动，故CD正确；  \\n本题选错误的，故选：A', 'answer_detail': '自由落体运动是物体初速度为零，只在重力作用下的下落运动，故任何物体自由落体的初速度都是零，加速度都是g．', 'grade': '高三', 'major': '物理', 'keypoint': '自由落体运动'}\n",
      "{'id': 'BkQQV-bxK3xjTC57JfNG', 'q_type': '单选题', 'q_main': '己知室温时$ \\\\rm{K_{sp}[Mg(OH)_{2}]=1.8×l0^{-11}} $，則此温度下$ \\\\rm{Mg(OH)_{2}} $在$ \\\\rm{pH= 12} $的$ \\\\rm{NaOH} $溶液中的最大溶解浓度为\\n', 'option_a': '$ \\\\rm{1.8×l0^{-9}mol/L} $ ', 'option_b': '$ \\\\rm{1.0×l0^{-7}mol/L} $ ', 'option_c': '$ \\\\rm{1.8×l0^{-7}mol/L} $ ', 'option_d': '$ \\\\rm{1.0×l0^{-5}mol/L} $', 'option_e': '', 'std_ans': 'C', 'answer': '$ \\\\rm{C} $', 'answer_detail': '略\\n', 'grade': '高三', 'major': '物理', 'keypoint': '溶度积,沉淀溶解平衡'}\n",
      "{'id': 'BkQQV-rxK3xjTCWDzMsO', 'q_type': '多选题', 'q_main': '下列对气体压强描述，正确的是（ ）', 'option_a': '在完全失重状态下，气体压强为零', 'option_b': '气体压强是由大量气体分子对器壁频繁的碰撞而产生的', 'option_c': '温度不变时，气体体积越小，相同时间内撞击到器壁的分子越多，压强越大', 'option_d': '气体温度升高，压强有可能减小', 'option_e': '', 'std_ans': 'B|C|D', 'answer': '解：A、气体的压强不是由重力产生的，是由气体分子对器壁的碰撞产生的，失重状态下，气体仍在作无规则的热运动，所以气体分子对器壁的碰撞没有停止，因而有压强．故A错误；  \\nB、压强是大量分子频繁地碰撞器壁，就对器壁产生持续、均匀的压力．所以从分子动理论的观点看来，气体的压强就是大量气体分子作用在器壁单位面积上的平均作用力．故B正确；  \\nC、温度不变时，气体分子热运动的平均动能一定；气体体积越小，分子数密度越大，相同时间内撞击到器壁的分子越多，压强越大；故C正确；  \\nD、压强大小有两方面决定：气体分子的密集程度，气体分子的平均动能．气体温度升高时，气体分子的平均动能增大，压强有增大的趋势，但是如果气体体积增加的更多，导致气体分子的密集程度大大减小，有可能压强会减小．故D正确；  \\n故选：BCD．', 'answer_detail': '气体的压强不是由重力产生的，是由气体分子对器壁的碰撞产生的，失重状态下，气体仍在作无规则的热运动，所以气体分子对器壁的碰撞没有停止，因而有压强．', 'grade': '高三', 'major': '物理', 'keypoint': '封闭气体压强'}\n",
      "{'id': 'BkQQV-zxK3xjS9Dqbp-r', 'q_type': '单选题', 'q_main': ' 美国航空航天局$ (NASA) $于$ 2009 $年 $ 2 $月$ 11 $日晚宣布，美国一颗通信卫星$ 10 $日与一颗已报废的俄罗斯卫星在太空中相撞，相撞产生的大量碎片对国际空间站等在轨太空设备都造成了潜在威胁$ .NASA $表示，这是人类历史上首次两颗完整在轨卫星相撞事故$ . $新闻发言人凯利汉弗莱斯表示，撞击地点位于西伯利亚上空约$ 500 $英里处(约$ 805 $公里$ ). $发生相撞的分别是美国$ 1997 $年发射的“铱$ 33 $”卫星，以及俄罗斯$ 1993 $年发射的“宇宙$ 2251 $”卫星，据信已经废弃了$ 10 $年$ . $前者重约$ 560 $千克，后者重约$ 900 $千克$ . $假设两颗卫星相撞前都在离地$ 805 $公里的轨道上做匀速圆周运动，结合中学物理的知识，下面对于相撞产生的大量碎片说法正确的是( ) ', 'option_a': '相撞后某些速度增大的碎片，要靠近地球运动', 'option_b': '相撞后某些速度增大的碎片，要远离地球运动', 'option_c': '相撞后所有的碎片都要靠近地球运动', 'option_d': '相撞后所有的碎片都要远离地球运动', 'option_e': '', 'std_ans': 'B', 'answer': ' $ B $ ', 'answer_detail': ' 解：$ AB $、速度增大的碎片，需要的向心力增大，提供的力不变，所以要做离心运动，要远离地球$ . $故A错误，B正确．  \\n$ CD $、相撞后速度增大的碎片，提供的向心力小于所需要的向心力，做离心运动，远离地球；速度减小的碎片，提供的向心力大于所需要的向心力，做近心运动，靠近地球运动，故CD错误   \\n故选：$ B $   \\n由于卫星质量不等，所以二者向心力大小不相等$ . $速度增大的碎片，需要的向心力增大，提供的力不变，所以要做离心运动．  \\n物体提供的向心力大于所需要的向心力，做近心运动；物体提供的力小于所需要的向心力，物体将做离心运动．', 'grade': '高一', 'major': '物理', 'keypoint': '利用万有引力定律研究天体运动'}\n",
      "{'id': 'BkQQV0HxK3xjTCWDzH-S', 'q_type': '多选题', 'q_main': '下面对电源电动势概念的认识正确的是（ ）', 'option_a': '电源电动势等于电源两极间的电压', 'option_b': '在闭合电路中，电动势等于内外电压之和', 'option_c': '电源电动势表征了电源把其他形式的能转化为电能的本领，电源把其形式的能转为电能越多，电动势就越大', 'option_d': '电动势、电压和电势差名称不同，但物理意义相同，所以单位也相同', 'option_e': '', 'std_ans': 'B|C', 'answer': '解：A、电源电动势等于电源没有接入电路时两极间的电压．电源接入外电路时，有内电压，电源两极间的电压小于电动势，故A错误．  \\nB、根据闭合电路欧姆定律得知：在闭合电路中，电动势等于内外电压之和，故B正确；  \\nC、电源电动势表征了电源把其他形式的能转化为电能的本领，故C正确；  \\nD、电动势、电压和电势差虽然单位相同，但物理意义不同，电源电动势表征了电源把其他形式的能转化为电能的本领，而电压等于电势差，故D错误；  \\n故选：BC', 'answer_detail': '电源电动势等于电源没有接入电路时两极间的电压；在闭合电路中，电动势等于内外电路电压之和；电源电动势表征了电源把其他形式的能转化为电能的本领，电动势越大，这种转化本领越大．电源的电动势与电压的单位相同，但与电压有本质的区别；', 'grade': '高三', 'major': '物理', 'keypoint': '电源的电动势和内阻'}\n",
      "{'id': 'BkQQV0fxK3xjS9Dqbk-x', 'q_type': '探究题', 'q_main': '免疫调节对维持人体内环境的稳态具有重要作用。请回答：\\n  (1)免疫系统的组成包括 。\\n  (2)免疫系统的防卫功能是否越强越好？请举例说明。\\n  (3)艾滋病患者的死亡不是由HIV病毒直接引起的，而是由念珠菌、肺囊虫等多种病原体引起的严重感染或恶性肿瘤等疾病导致的。请分析其原因。\\n', 'option_a': '', 'option_b': '', 'option_c': '', 'option_d': '', 'option_e': '', 'std_ans': '(1)免疫器官、免疫细胞、免疫活性物质\\n (2)否 免疫防卫过强会引起过敏反应或自身免疫病如类风湿性关节炎\\n (3)HIV会破坏T淋巴细胞，使人体免疫系统的监控和清除及防卫功能几乎全部丧失，无法及时清除癌变细胞及入侵的病原体\\n', 'answer': '(1)免疫器官、免疫细胞、免疫活性物质\\n (2)否 免疫防卫过强会引起过敏反应或自身免疫病如类风湿性关节炎\\n (3)HIV会破坏T淋巴细胞，使人体免疫系统的监控和清除及防卫功能几乎全部丧失，无法及时清除癌变细胞及入侵的病原体\\n', 'answer_detail': '  本题考查免疫系统的组成、免疫的防卫功能异常的相关知识，意在考查学生掌握知识间的内在联系，形成知识间的网络结构能力。      （1） 免疫器官、免疫细胞和免疫活性物质组成人体的免疫系统。   （2）免疫系统的防卫功能不是越强越好，如果防卫功能过强会引起过敏反应或自身免疫病，如类风湿性关节炎。   （3）HIV会破坏T淋巴细胞，使人体免疫系统的监控和清除及防卫功能几乎全部丧失，无法及时清除癌变细胞及入侵的病原体，故艾滋病患者的死亡不是由HIV病毒直接引起的，而是由念珠菌、肺囊虫等多种病原体引起的严重感染或恶性肿瘤等疾病导致的。 ', 'grade': '高三', 'major': '物理', 'keypoint': '免疫系统的功能,免疫功能异常与免疫应用,艾滋病的流行和预防,免疫系统的组成'}\n",
      "{'id': 'BkQQV2PxK3xjS9DqbllM', 'q_type': '单选题', 'q_main': '下列生物学实验操作，能够顺利达到实验目的的是\\n', 'option_a': '在固体培养基上涂布稀释的大肠杆菌培养液获得单菌落', 'option_b': '在接种酵母菌的新鲜葡萄汁中通入无菌空气制作果酒', 'option_c': '土壤浸出液接种于牛肉膏蛋白胨培养基上筛选分解尿素的细菌', 'option_d': '在分离土壤中的尿素分解菌实验中，采集的土样经高温灭菌后，可以用于制取', 'option_e': '', 'std_ans': 'A', 'answer': 'A', 'answer_detail': '略', 'grade': '高二', 'major': '物理', 'keypoint': '微生物数量的测定,微生物的分离,土壤中分解尿素的细菌的分离与计数'}\n",
      "{'id': 'BkQQV2TxK3xjS91W_e-h', 'q_type': '计算题', 'q_main': '质量m＝5kg的物体在恒定水平推力F＝5 N的作用下，自静止开始在水平路面上运动，t1=2 s后，撤去力F，物体又经t2＝3 s停了下来。求物体运动中受水平面滑动摩擦力的大小。   \\n', 'option_a': '', 'option_b': '', 'option_c': '', 'option_d': '', 'option_e': '', 'std_ans': '', 'answer': '2 N  \\n', 'answer_detail': '', 'grade': '高三', 'major': '物理', 'keypoint': '9010302'}\n",
      "{'id': 'BkQQV2TxK3xjS91W_e9g', 'q_type': '选择题', 'q_main': '（单选）\\xa0一个人造地球卫星绕地球做匀速圆周运动，假如该卫星变轨后仍做匀速圆周运动，动能减小为原来的1/4，不考虑卫星质量的变化，则变轨前后卫星的( )  \\nA向心加速度大小之比为4:1  \\nB角速度大小之比为2:1  \\nC周期之比为1:8  \\nD. 轨道半径之比为1:2  \\n', 'option_a': '', 'option_b': '', 'option_c': '', 'option_d': '', 'option_e': '', 'std_ans': 'C', 'answer': 'C  \\n', 'answer_detail': '', 'grade': '高三', 'major': '物理', 'keypoint': '9010602'}\n",
      "{'id': 'BkQQV2TxK3xjS9Dqblq9', 'q_type': '单选题', 'q_main': '基因工程的操作步骤   \\n ①使目的基因与运载体结合；②将目的基因导入受体细胞；③检测目的基因表达；④提取目的的基因；正确的顺序是\\n', 'option_a': '③②④① ', 'option_b': '②④①③ ', 'option_c': '④①②③ ', 'option_d': '③④①②', 'option_e': '', 'std_ans': 'C', 'answer': 'C', 'answer_detail': '本题知识点简单，考查基因工程的相关知识，只要考生识记基因工程的概念及操作步骤即可正确答题，属于考纲识记层次的考查．对于此类试题，需要考生掌握牢固的基础知识。基因工程的基本操作步骤主要包括四步：  \\n（1）目的基因的获取，即④提取目的基因；  \\n（2）基因表达载体的构建，即①使目的基因与运载体结合；  \\n（3）将目的基因导入受体细胞，即②；  \\n（4）目的基因的检测与表达，即③。综上所述，C正确，ABD错误。  \\n故选C。  \\n  \\n', 'grade': '高一', 'major': '物理', 'keypoint': '基因工程的操作程序'}\n",
      "{'id': 'BkQQV3PxK3xjS91W_fdp', 'q_type': '选择题', 'q_main': '（多选）一物体的运动在直角坐标系的x轴和y袖方向上的规律分别是x=3t2及y=4t2，则下列说法中正确的是  \\n', 'option_a': '物体在x方向上和y方向上都在做初速度为零的匀加速运动', 'option_b': '物体的合运动是初速度为零，加速度为5m／s2的匀加速直线运动', 'option_c': '物体的合运动是初速度为零，加速度为l0m／s2的匀加速直线运动', 'option_d': '物体的合运动是曲线运动', 'option_e': '', 'std_ans': 'A|C', 'answer': 'AC  \\n', 'answer_detail': '', 'grade': '高三', 'major': '物理', 'keypoint': '9010503'}\n",
      "{'id': 'BkQQV3PxK3xjS9Dqbl5T', 'q_type': '填空题', 'q_main': '湿地生态系统被人们称为“地球之肾”，它可以通过物质循环、能量流动以及信息传递将陆地生态系统与水域生态系统联系起来，是自然界中陆地、水体和大气三者之间相互平衡的产物。请根据生态系统有关知识回答下列问题：\\n （1）湿地生态系统的结构包括_________________。\\n （2）在生态系统中，芦苇属于第一营养级，它的能量除了未利用的一部分和被分解者利用外，其他的流向是______。为了提高芦苇纤维的长度和纤维的品质，在生长期可以用______激素进行处理。\\n （3）植物的“绿色”为昆虫提供了采食的信息。这表明了信息传递在生态系统中的作用是___________________________________。\\n （4）沼泽干涸后发生的群落演替类型是______。若要调查沼泽地里蚯蚓的密度，用的方法应是______。当生态系统处于相对稳定状态时，蝗虫种群数量的增长率一般为______。\\n （5）某湖泊蓝藻爆发，湖面漂浮着一层绿膜，部分游客认为这是绿藻而非蓝藻。对此，可通过显微镜观察细胞是否具有______来判断。\\n', 'option_a': '', 'option_b': '', 'option_c': '', 'option_d': '', 'option_e': '', 'std_ans': '（1）生态系统的组成成分和营养结构\\n（2）自身的呼吸作用和被下一营养级所同化 赤霉素\\n（3）调节生物的种间关系，以维持生态系统的稳定\\n（4）次生演替 样方法 0\\n（5）以核膜为界限的细胞核或叶绿体等细胞器 \\n', 'answer': '（1）生态系统的组成成分和营养结构\\n（2）自身的呼吸作用和被下一营养级所同化 赤霉素\\n（3）调节生物的种间关系，以维持生态系统的稳定\\n（4）次生演替 样方法 0\\n（5）以核膜为界限的细胞核或叶绿体等细胞器 \\n', 'answer_detail': '本题考查种群、群落、生态系统的内容，意在考查学生对知识的理解和应用能力。\\n（1）湿地生态系统的结构包括生态系统的组成成分和营养结构。\\n（2）在生态系统中，芦苇属于第一营养级，它的能量除了未利用的一部分和被分解者利用外，其他的流向是自身的呼吸作用和被下一营养级所同化。赤霉素可促进细胞的伸长，为了提高芦苇纤维的长度和纤维的品质，在生长期可以用赤霉素进行处理。\\n（3）植物的“绿色”为昆虫提供了采食的信息。这表明了信息传递在生态系统中的作用是调节生物的种间关系，以维持生态系统的稳定。\\n（4）沼泽干涸后发生的群落演替类型是次生演替。若要调查沼泽地里蚯蚓的密度，用的方法应是样方法。当生态系统处于相对稳定状态时，蝗虫种群数量的增长率一般为0。\\n（5）某湖泊蓝藻爆发，湖面漂浮着一层绿膜，部分游客认为这是绿藻而非蓝藻。蓝藻属于原核生物，绿藻属于真核生物，对此，可通过显微镜观察细胞是否具有以核膜为界限的细胞核或叶绿体等细胞器来判断。\\n', 'grade': '高三', 'major': '物理', 'keypoint': '群落演替的概念与类型,信息传递在生态系统中的作用及实践应用,能量流动的概念和过程,原核细胞与真核细胞的比较,种群数量的变化,生态系统的组成成分,种群密度的调查,生态系统的营养结构,其他植物激素'}\n",
      "{'id': 'BkQQV3nxK3xjS9DqbmAQ', 'q_type': '单选题', 'q_main': '下列有关生物学研究方法的叙述中，正确的有( )   \\n①用样方法调查植物种群密度时，取样的关键是随机取样   \\n②研究土壤中小动物类群丰富度时用标志重捕法   \\n③在电子显微镜下拍摄到的叶绿体的结构照片属于概念模型   \\n④孟德尔遗传规律的研究过程和摩尔根果蝇眼色遗传的研究过程均用到了假说演绎法   \\n⑤在探究生长素类似物促进插条生根的最适浓度实验中，用浸泡法处理时要求时间较长、溶液浓度较低，沾蘸法则正好相反   \\n⑥调查人群中某遗传病发病率时，最好要选取群体中发病率较高的多基因遗传病．', 'option_a': '一项', 'option_b': '二项', 'option_c': '三项', 'option_d': '四项', 'option_e': '', 'std_ans': 'C', 'answer': 'C', 'answer_detail': '试题分析：阅读题干可知本题涉及的知识点是生物学研究方法，梳理相关知识点，然后根据选项描述结合基础知识做出判断．   \\n①用样方法调查植物种群密度时，取样时要注意随机取样，①正确．   \\n②研究土壤中小动物类群丰富度时用取样器取样的方法，②错误．   \\n③在电子显微镜下拍摄到的叶绿体的结构不属于概念模型，模型比较直观，电子显微镜看的不直观，③错误．   \\n④孟德尔遗传规律的研究过程以及摩尔根果蝇眼色遗传的研究，均用到了假说演绎法，④正确．   \\n⑤在探究生长素类似物促进插条生根的最适浓度实验中，用浸泡法处理时要求时间较长、溶液浓度较低，沾蘸法是把插条基部在浓度较高的药液中蘸一下，时间较短，⑤正确．   \\n⑥调查人群中某遗传病发病率时，随机选取调查对象，对单基因遗传病进行调查，⑥错误．   \\n综上所述，正确的有三项．   \\n故选：C．', 'grade': '高三', 'major': '物理', 'keypoint': '遗传的基本规律'}\n",
      "{'id': 'BkQQV3nxK3xjTCWDzJdC', 'q_type': '选择题', 'q_main': '决定闭合电路中感应电动势大小的因素是（ ）', 'option_a': '磁通量', 'option_b': '磁感应强度', 'option_c': '磁通量的变化率', 'option_d': '磁通量的变化量', 'option_e': '', 'std_ans': 'C', 'answer': '解：根据法拉第电磁感应定律可知，闭合电路中产生的感应电动势的大小与穿过电路的磁通量的变化率成正比，与磁通量、磁感应强度、磁通量的变化量没有直接关系，故ABD错误，C正确．  \\n故选：C．', 'answer_detail': '根据法拉第电磁感应定律，分析感应电动势大小的决定因素．磁通量变化率反映磁通量变化的快慢，与磁通量没有直接的关系．', 'grade': '高三', 'major': '物理', 'keypoint': '法拉第电磁感应定律'}\n",
      "{'id': 'BkQQV3rxK3xjS91W_fkk', 'q_type': '选择题', 'q_main': '（单选）下列说法正确的是（ ）  \\n', 'option_a': '力很大，位移也很大，这个力做的功一定很大', 'option_b': '一对作用力与反作用力对相互作用的系统做功之和一定为零', 'option_c': '静摩擦力对物体一定不做功，滑动摩擦力对物体一定做负功', 'option_d': '重力势能与参考面的选择有关，重力势能的变化量与参考面的选择无关', 'option_e': '', 'std_ans': 'D', 'answer': 'D  \\n', 'answer_detail': '', 'grade': '高三', 'major': '物理', 'keypoint': '9010401'}\n",
      "{'id': 'BkQQV3vxK3xjS91W_ftL', 'q_type': '选择题', 'q_main': '（单选）关于曲线运动，下列说法中正确的是：  \\n', 'option_a': '速率不变的曲线运动是匀速运动 ', 'option_b': '曲线运动也可以是速度不变的运动', 'option_c': '曲线运动—定是变速运动 ', 'option_d': '物体在恒力作用下不能做曲线运动', 'option_e': '', 'std_ans': 'C', 'answer': 'C  \\n', 'answer_detail': '', 'grade': '高三', 'major': '物理', 'keypoint': '9010501'}\n",
      "{'id': 'BkQQV4HxK3xjS91W_f3W', 'q_type': '选择题', 'q_main': '（单选）用长短不同、材料相同的同样粗细的绳子，各栓着一个质量相同的小球在光滑水平面上作匀速圆周运动，那么   \\n', 'option_a': '两小球以相同的线速度运动时，长绳易断', 'option_b': '两小球以相同的角速度运动时，长绳易断', 'option_c': '两小球以相同的角速度运动时，短绳易断', 'option_d': '不管怎样，都是短绳易断', 'option_e': '', 'std_ans': 'B', 'answer': 'B  \\n', 'answer_detail': '', 'grade': '高三', 'major': '物理', 'keypoint': '9010502'}\n",
      "{'id': 'BkQQV4nxK3xjS91W_gBu', 'q_type': '选择题', 'q_main': '（单选）关于作用力与反作用力，下列说法正确的是 （ ）  \\n', 'option_a': '作用力与反作用力的合力为零 ', 'option_b': '先有作用力，然后才产生反作用力', 'option_c': '作用力与反作用力大小相等、方向相反', 'option_d': '作用力与反作用力作用在同一个物体上', 'option_e': '', 'std_ans': 'C', 'answer': 'C  \\n', 'answer_detail': '', 'grade': '高三', 'major': '物理', 'keypoint': '9010303'}\n",
      "{'id': 'BkQQV5TxK3xjS91W_g0n', 'q_type': '选择题', 'q_main': '（单选）做匀加速直线运动的物体, 加速度为2m/s2, 它的意义是：  \\n', 'option_a': '物体在任一秒末的速度是该秒初的速度的两倍', 'option_b': '物体在任一秒末速度比该秒初的速度大2m/s', 'option_c': '物体在任一秒的初速度比前一秒的末速度大2m/s', 'option_d': '物体在任一秒的位移都比前一秒内的位移增加2m', 'option_e': '', 'std_ans': 'B', 'answer': 'B  \\n', 'answer_detail': '', 'grade': '高三', 'major': '物理', 'keypoint': '9010101'}\n",
      "{'id': 'BkQQV5jxK3xjS9Dqbm00', 'q_type': '单选题', 'q_main': ' 下列关于洋葱根尖有丝分裂的叙述，正确的是\\n', 'option_a': '中心体发出星射线形成纺锤体', 'option_b': '同源染色体两两配对完成联会', 'option_c': '赤道板向四周扩展形成新的细胞壁', 'option_d': '染色体复制后平分到两个子细胞中', 'option_e': '', 'std_ans': 'D', 'answer': 'D', 'answer_detail': '本题考查细胞有丝分裂不同时期的特点，要求考生识记细胞有丝分裂不同时期的特点，掌握动植物细胞有丝分裂过程的异同，能结合所学的知识准确判断各选项。\\nA.洋葱根尖细胞是高等植物细胞，没有中心体，A错误；\\nB.洋葱根尖有丝分裂过程中没有同源染色体两两配对完成联会，减数分裂才有，B错误；\\nC.细胞板向四周扩展形成新的细胞壁，不是赤道板，C错误；\\n D.染色体复制后平分到两个子细胞中，D正确。\\n故选D。\\n', 'grade': '高二', 'major': '物理', 'keypoint': '有丝分裂的过程及意义'}\n",
      "{'id': 'BkQQV5jxK3xjS9DqbmxL', 'q_type': '单选题', 'q_main': '下列关于动物激素的叙述，错误的是\\n', 'option_a': '机体内、外环境的变化可影响激素的分泌', 'option_b': '切除动物垂体后，血液中生长激素的浓度下降', 'option_c': '通过对转录的调节可影响蛋白质类激素的合成量', 'option_d': '血液中胰岛素增加可促进胰岛B细胞分泌胰高血糖素', 'option_e': '', 'std_ans': 'D', 'answer': 'D', 'answer_detail': ' 本题考查体液调节相关知识，意在考查考生的理解和应用能力。\\n    A.激素的含量处于动态平衡中，激素的分泌量可随内、外环境的改变而变化，A正确；   \\nB.动物的生长激素是由垂体分泌的，切除动物垂体后，血液中生长激素的浓度下降，B正确；   \\nC.蛋白质类激素的合成需要通过转录和翻译过程，通过对转录的调节可影响蛋白质类激素的合成量，C正确；   \\nD.血液中胰岛素增加可抑制胰岛A细胞分泌胰高血糖素，D错误。   \\n故选D。   \\n   \\n ', 'grade': '高二', 'major': '物理', 'keypoint': '遗传信息的转录和翻译,激素的种类、功能与应用,激素调节的概念和特点,血糖平衡的调节'}\n",
      "{'id': 'BkQQV6DxK3xjS9DqbnAi', 'q_type': '填空题', 'q_main': '沿水平方向抛出与石子时石子在空中的运动是 ______ ．', 'option_a': '', 'option_b': '', 'option_c': '', 'option_d': '', 'option_e': '', 'std_ans': '平抛运动', 'answer': '平抛运动', 'answer_detail': '解：石子被水平抛出后，只受重力，初速度水平，所以做平抛运动．  \\n故答案为：平抛运动．  \\n根据石子的受力情况和初速度，分析石子的运动情况．  \\n解决本题的关键要知道做平抛运动的条件：只受重力，初速度水平，并要知道该运动是匀变速曲线运动．', 'grade': '高三', 'major': '物理', 'keypoint': '平抛运动'}\n",
      "{'id': 'BkQQV6HxK3xjS91W_hRB', 'q_type': '选择题', 'q_main': '（单选）质量为m的钢球自高处落下，以速率v1碰地，竖直向上弹回，碰撞时间极短，离地的速率为v2．在碰撞过程中，钢球受到的冲量的方向和大小为( )  \\n', 'option_a': '向下，m（v1－v2） ', 'option_b': '向下，m（v1＋v2）\\ue003', 'option_c': '向上，m（v1－v2） ', 'option_d': '向上，m（v1＋v2）', 'option_e': '', 'std_ans': 'D', 'answer': 'D  \\n', 'answer_detail': '', 'grade': '高三', 'major': '物理', 'keypoint': '9010801'}\n",
      "{'id': 'BkQQV6HxK3xjS91W_hRG', 'q_type': '选择题', 'q_main': '（单选）关于感应电流，下列说法中正确的是 （ ）   \\n', 'option_a': '只要闭合电路内有磁通量，闭合电路中就有感应电流产生', 'option_b': '穿过螺线管的磁通量发生变化时，螺线管内部就一定有感应电流产生', 'option_c': '线圈不闭合时，即使穿过线圈的磁通量发生变化，线圈中也没有感应电流', 'option_d': '只要电路的一部分作切割磁感线的运动，电路中就一定有感应电流', 'option_e': '', 'std_ans': 'C', 'answer': 'C  \\n', 'answer_detail': '', 'grade': '高三', 'major': '物理', 'keypoint': '9020302'}\n",
      "{'id': 'BkQQV6vxK3xjTCWDzK7U', 'q_type': '选择题', 'q_main': '关于电场线的下列说法中错误的是（ ）', 'option_a': '电场线并非真实存在，是人们假想出来的', 'option_b': '电场线既能反映电场的强弱，也能反映电场的方向', 'option_c': '只要初速度为零，正电荷必将沿电场线方向移动', 'option_d': '匀强电场的电场线分布是均匀、相互平行的直线', 'option_e': '', 'std_ans': 'C', 'answer': '解：A、电场线是人为假想的曲线，不是真实存在的，故A正确．  \\nB、电场线的疏密表示电场的强弱，切线方向表示场强的方向．故B正确．  \\nC、若电场线是曲线，或正电荷的初速度与电场线不在同一直线上，则正电荷并不沿电场线运动．故C错误．  \\nD、匀强电场中各点的电场强度大小和方向处处相同，电场线是一组均匀的平行线，故D正确．  \\n本题选错误的，故选：C．', 'answer_detail': '电场线是假想的曲线，不存在，其疏密都表示电场的强弱，切线方向表示场强的方向．电场线与电荷的运动轨迹不一定重合．匀强电场的场强处处相同．根据这些知识分析．', 'grade': '高三', 'major': '物理', 'keypoint': '电场线'}\n",
      "{'id': 'BkQQV7XxK3xjS91W_iCI', 'q_type': '选择题', 'q_main': '（单选）2013年12月2日1时30分，长征三号乙运载火箭将“嫦娥三号”从西昌卫星发射中心成功发射．2013年12月14日21时00分，嫦娥三号探测器7500N变推力发动机开机，探测器从距月面15km处实施动力下降，相对速度将从1.7km/s逐渐减为0．嫦娥三号探测器在月球表面预选着陆区域成功着陆，“玉兔”号月球车顺利驶抵月球表面，标志着中国已成为世界上第三个实现地外天体软着陆的国家． “玉兔”号月球车上太阳能帆板的作用是（ ）  \\n', 'option_a': '将太阳能转化为电能 ', 'option_b': '将太阳能转化为光能', 'option_c': '将太阳能转化为机械能 ', 'option_d': '将电能转化为太阳能', 'option_e': '', 'std_ans': 'A', 'answer': 'A  \\n', 'answer_detail': '', 'grade': '高三', 'major': '物理', 'keypoint': '9010407'}\n"
     ]
    }
   ],
   "source": [
    "for ob in raw:\n",
    "    if ob[\"major\"] == '物理' and ob[\"grade\"] in [\"高一\",\"高二\",\"高三\"]:\n",
    "        print(ob)"
   ]
  },
  {
   "cell_type": "code",
   "execution_count": 29,
   "metadata": {},
   "outputs": [
    {
     "data": {
      "text/plain": [
       "{'text': '石油减压分馏的目的是（ ）\\nA.使高沸点的重油进一步分离\\nB.得到更多的优质重油\\nC.得到汽油、煤油等轻质油\\nD.得到高质量的汽油',\n",
       " 'major': '化学',\n",
       " 'keypoint': '石油的分馏产品和用途',\n",
       " 'ans': 'A',\n",
       " 'answer_detail': '减压分馏能使高沸点的重油转化为气态挥发出来；依此分析．'}"
      ]
     },
     "execution_count": 29,
     "metadata": {},
     "output_type": "execute_result"
    }
   ],
   "source": [
    "before[199]"
   ]
  },
  {
   "cell_type": "code",
   "execution_count": 31,
   "metadata": {},
   "outputs": [
    {
     "data": {
      "text/plain": [
       "{'text': '石油减压分馏的目的是（ ）\\nA.使高沸点的重油进一步分离\\nB.得到更多的优质重油\\nC.得到汽油、煤油等轻质油\\nD.得到高质量的汽油',\n",
       " 'major': '化学',\n",
       " 'keypoint': '石油的分馏产品和用途',\n",
       " 'ans': 'A',\n",
       " 'answer_detail': '减压分馏能使高沸点的重油转化为气态挥发出来；依此分析．'}"
      ]
     },
     "execution_count": 31,
     "metadata": {},
     "output_type": "execute_result"
    }
   ],
   "source": [
    "after[197]"
   ]
  },
  {
   "cell_type": "code",
   "execution_count": 32,
   "metadata": {},
   "outputs": [],
   "source": [
    "pt_nf2 = print_jsonl(\"/home/pika/Dataset/minpt/pt_nf/Chinese-pretraining-dataset/2.jsonl\")"
   ]
  },
  {
   "cell_type": "code",
   "execution_count": 33,
   "metadata": {},
   "outputs": [],
   "source": [
    "pt_nf1 = print_jsonl(\"/home/pika/Dataset/minpt/pt_nf/educhat-sft-002-data-osm/1.jsonl\")"
   ]
  },
  {
   "cell_type": "code",
   "execution_count": 34,
   "metadata": {},
   "outputs": [],
   "source": [
    "final_1 = print_jsonl(\"/home/pika/Dataset/minpt/pt_final/educhat-sft-002-data-osm/1.jsonl\")"
   ]
  },
  {
   "cell_type": "code",
   "execution_count": 35,
   "metadata": {},
   "outputs": [],
   "source": [
    "final_2 = print_jsonl(\"/home/pika/Dataset/minpt/pt_final/Chinese-pretraining-dataset/2.jsonl\")"
   ]
  },
  {
   "cell_type": "code",
   "execution_count": 39,
   "metadata": {},
   "outputs": [
    {
     "name": "stdout",
     "output_type": "stream",
     "text": [
      "7\n"
     ]
    }
   ],
   "source": [
    "for idx,ob in enumerate(pt_nf2):\n",
    "    if ob not in final_2:\n",
    "        print(idx)"
   ]
  },
  {
   "cell_type": "code",
   "execution_count": 37,
   "metadata": {},
   "outputs": [
    {
     "data": {
      "text/plain": [
       "[{'text': '我特别喜欢红苹果'},\n",
       " {'text': '我喜欢蓝天'},\n",
       " {'text': '我非常喜欢蓝天'},\n",
       " {'text': '我特别喜欢蓝天'},\n",
       " {'text': '我真的喜欢青苹果'},\n",
       " {'text': '我真的喜欢红苹果'}]"
      ]
     },
     "execution_count": 37,
     "metadata": {},
     "output_type": "execute_result"
    }
   ],
   "source": [
    "final_1"
   ]
  },
  {
   "cell_type": "code",
   "execution_count": null,
   "metadata": {},
   "outputs": [],
   "source": []
  }
 ],
 "metadata": {
  "kernelspec": {
   "display_name": "teachat",
   "language": "python",
   "name": "python3"
  },
  "language_info": {
   "codemirror_mode": {
    "name": "ipython",
    "version": 3
   },
   "file_extension": ".py",
   "mimetype": "text/x-python",
   "name": "python",
   "nbconvert_exporter": "python",
   "pygments_lexer": "ipython3",
   "version": "3.10.14"
  }
 },
 "nbformat": 4,
 "nbformat_minor": 2
}

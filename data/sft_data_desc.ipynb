{
 "cells": [
  {
   "cell_type": "code",
   "execution_count": 1,
   "metadata": {},
   "outputs": [],
   "source": [
    "import json\n",
    "from collections import defaultdict\n",
    "import pandas as pd"
   ]
  },
  {
   "cell_type": "code",
   "execution_count": 2,
   "metadata": {},
   "outputs": [],
   "source": [
    "grade_major = defaultdict(int)\n",
    "sample = []\n",
    "with open(\"sft_data.jsonl\",\"r\") as f:\n",
    "    for line in f:\n",
    "        item = json.loads(line)       \n",
    "        if len(item[\"answer_detail\"].replace('\\n', '').replace(' ', ''))>1 and item[\"grade\"] in ['高一','高二','高三']:\n",
    "            grade_major[\" \".join([item[\"grade\"],item[\"major\"]])] += 1\n",
    "            if len(sample) < 50:sample.append(item)\n"
   ]
  },
  {
   "cell_type": "code",
   "execution_count": 3,
   "metadata": {},
   "outputs": [
    {
     "name": "stdout",
     "output_type": "stream",
     "text": [
      "grade      高一      高二      高三     sum\n",
      "major                                \n",
      "语文      17259   13319   22107   52685\n",
      "英语      19234   13894   47331   80459\n",
      "数学      25169   31463   43927  100559\n",
      "物理      17792   12043   38420   68255\n",
      "生物      43447   37153   65760  146360\n",
      "化学      33097   24430   31465   88992\n",
      "历史      45171   34552   61538  141261\n",
      "政治      60536   61227   66824  188587\n",
      "地理      10546    5151   12773   28470\n",
      "sum    272251  233232  390145  895628\n"
     ]
    }
   ],
   "source": [
    "data = grade_major\n",
    "df = pd.DataFrame.from_dict(data, orient='index', columns=['value'])\n",
    "df['grade'] = df.index.str.split().str[0]\n",
    "df['major'] = df.index.str.split().str[1]\n",
    "\n",
    "df_pivot = df.pivot(index='major', columns='grade', values='value')\n",
    "\n",
    "df_pivot = df_pivot[['高一', '高二', '高三']]\n",
    "row_order = ['语文', '英语', '数学', '物理', '生物','化学', '历史', '政治', '地理']\n",
    "df_pivot = df_pivot.loc[row_order]\n",
    "\n",
    "df_pivot['sum'] = df_pivot.sum(axis=1)\n",
    "df_pivot.loc['sum'] = df_pivot.sum()\n",
    "print(df_pivot)"
   ]
  },
  {
   "cell_type": "code",
   "execution_count": 4,
   "metadata": {},
   "outputs": [
    {
     "data": {
      "text/plain": [
       "{'id': 'BkQQV-PxK3xjJ_puUGek',\n",
       " 'q_type': '简答题',\n",
       " 'q_main': ' 铅及其化合物可用于蓄电池，耐酸设备及$ \\\\rm{X} $射线防护材料等$ \\\\rm{.} $回答下列问题：   \\n$ \\\\rm{(1)} $铅是碳的同族元素，比碳多$ \\\\rm{4} $个电子层，铅在周期表的位置为 ______ 周期，第 ______ 族：$ \\\\rm{PbO_{2}} $的酸性比$ \\\\rm{CO_{2}} $的酸性 ______ (填“强”或“弱”)．  \\n$ \\\\rm{(2)PbO_{2}} $与浓盐酸共热生成黄绿色气体，反应的化学方程式为 ______ ．   \\n$ \\\\rm{(3)PbO_{2}} $可由$ \\\\rm{PbO} $与次氯酸钠溶液反应制得，反应的离子方程式为 ______ ；$ \\\\rm{PbO_{2}} $也可以通过石墨为电极，$ \\\\rm{Pb(NO_{3})_{2}} $和$ \\\\rm{Cu(NO_{3})_{2}} $的混合溶液为电解液电解制取$ \\\\rm{.} $阳极发生的电极反应式 ______ ，阴极观察到的现象是 ______ ；若电解液中不加入$ \\\\rm{Cu(NO_{3})_{2}} $，阴极发生的电极反应式 ______ ，这样做的主要缺点是 ______ ． ',\n",
       " 'option_a': '',\n",
       " 'option_b': '',\n",
       " 'option_c': '',\n",
       " 'option_d': '',\n",
       " 'option_e': '',\n",
       " 'std_ans': '',\n",
       " 'answer': ' 六；Ⅳ$ \\\\rm{A} $；弱；$ \\\\rm{PbO_{2}+4HCl(} $浓$ \\\\rm{) \\\\dfrac { \\\\overset{\\\\;\\\\;\\\\triangle \\\\;\\\\;}{ .}}{\\\\;}PbCl_{2}+Cl_{2}↑+2H_{2}O} $；$ \\\\rm{PbO+ClO^{-}=PbO_{2}+Cl^{-}} $；$ \\\\rm{Pb^{2+}+2H_{2}O-2e^{-}=PbO_{2}↓+4H^{+}} $；石墨上红色物质析出；$ \\\\rm{Pb^{2+}+2e^{-}=Pb↓} $；$ \\\\rm{Pb^{2+}} $的利用率降低 ',\n",
       " 'answer_detail': ' 解：$ \\\\rm{(1)} $铅是碳的同族元素，比碳多$ \\\\rm{4} $个电子层，铅位于第六周期Ⅳ$ \\\\rm{A} $族；非金属性$ \\\\rm{C > Pb} $，故$ \\\\rm{PbO_{2}} $的酸性比$ \\\\rm{CO_{2}} $的酸性弱，   \\n故答案为：六、Ⅳ$ \\\\rm{A} $；弱；   \\n$ \\\\rm{(2)PbO_{2}} $与浓盐酸共热生成黄绿色气体，说明生成氯气，还应生成$ \\\\rm{PbCl_{2}} $与水，反应方程式为：$ \\\\rm{PbO_{2}+4HCl(} $浓$ \\\\rm{) \\\\dfrac { \\\\overset{\\\\;\\\\;\\\\triangle \\\\;\\\\;}{ .}}{\\\\;}PbCl_{2}+Cl_{2}↑+2H_{2}O} $，   \\n故答案为：$ \\\\rm{PbO_{2}+4HCl(} $浓$ \\\\rm{) \\\\dfrac { \\\\overset{\\\\;\\\\;\\\\triangle \\\\;\\\\;}{ .}}{\\\\;}PbCl_{2}+Cl_{2}↑+2H_{2}O} $；   \\n$ \\\\rm{(3)PbO_{2}} $可由$ \\\\rm{PbO} $与次氯酸钠溶液反应制得，据此可知，$ \\\\rm{PbO} $与$ \\\\rm{ClO^{-}} $反应得到$ \\\\rm{PbO_{2}} $，同时生成$ \\\\rm{Cl^{-}} $，反应离子方程式为：$ \\\\rm{PbO+ClO^{-}=PbO_{2}+Cl^{-}} $；   \\n阳极上$ \\\\rm{Pb^{2+}} $失去电子，得到$ \\\\rm{PbO_{2}} $，需要水参与反应，同时生成氢离子，电极反应式为：$ \\\\rm{Pb^{2+}+2H_{2}O-2e^{-}=PbO_{2}↓+4H^{+}} $，阴极上，$ \\\\rm{Cu^{2+}} $获得电子生成$ \\\\rm{Cu} $，附着在石墨电极上，即石墨上红色物质析出；   \\n若电解液中不加入$ \\\\rm{Cu(NO_{3})_{2}} $，阴极上$ \\\\rm{Pb^{2+}} $获得电子生成$ \\\\rm{Pb} $，阴极电极反应式为：$ \\\\rm{Pb^{2+}+2e^{-}=Pb↓} $，$ \\\\rm{Pb^{2+}} $的利用率降低；   \\n故答案为：$ \\\\rm{PbO+ClO^{-}=PbO_{2}+Cl^{-}} $；$ \\\\rm{Pb^{2+}+2H_{2}O-2e^{-}=PbO_{2}↓+4H^{+}} $；石墨上红色物质析出；$ \\\\rm{Pb^{2+}+2e^{-}=Pb↓} $；$ \\\\rm{Pb^{2+}} $的利用率降低．  \\n$ \\\\rm{(1)} $铅是碳的同族元素，比碳多$ \\\\rm{4} $个电子层，铅位于第六周期Ⅳ$ \\\\rm{A} $族；非金属性越强酸性越强；   \\n$ \\\\rm{(2)PbO_{2}} $与浓盐酸共热生成黄绿色气体，说明生成氯气，还应生成$ \\\\rm{PbCl_{2}} $与水；   \\n$ \\\\rm{(3)PbO_{2}} $可由$ \\\\rm{PbO} $与次氯酸钠溶液反应制得，据此可知，$ \\\\rm{PbO} $与$ \\\\rm{ClO^{-}} $反应得到$ \\\\rm{PbO_{2}} $，同时生成$ \\\\rm{Cl^{-}} $；   \\n阳极上$ \\\\rm{Pb^{2+}} $失去电子，得到$ \\\\rm{PbO_{2}} $，需要水参与反应，同时生成氢离子，阴极上，$ \\\\rm{Cu^{2+}} $获得电子生成$ \\\\rm{Cu} $，附着在石墨电极上；   \\n若电解液中不加入$ \\\\rm{Cu(NO_{3})_{2}} $，阴极上$ \\\\rm{Pb^{2+}} $获得电子生成$ \\\\rm{Pb} $，$ \\\\rm{Pb^{2+}} $生成$ \\\\rm{PbO_{2}} $的利用率降低．  \\n本题比较综合，涉及元素周期表与元素周期律、常用化学用语、电解原理等，题目素材基本取自教材以外，是对学生综合能力考查，$ \\\\rm{(3)} $中电解液中不加入$ \\\\rm{Cu(NO_{3})_{2}} $时阴极反应为易错点，掌握离子放电顺序是关键，题目难度中等．',\n",
       " 'grade': '高三',\n",
       " 'major': '化学',\n",
       " 'keypoint': '碳族元素简介,电解池的工作原理'}"
      ]
     },
     "execution_count": 4,
     "metadata": {},
     "output_type": "execute_result"
    }
   ],
   "source": [
    "sample[-2]"
   ]
  }
 ],
 "metadata": {
  "kernelspec": {
   "display_name": "teachat",
   "language": "python",
   "name": "python3"
  },
  "language_info": {
   "codemirror_mode": {
    "name": "ipython",
    "version": 3
   },
   "file_extension": ".py",
   "mimetype": "text/x-python",
   "name": "python",
   "nbconvert_exporter": "python",
   "pygments_lexer": "ipython3",
   "version": "3.10.14"
  }
 },
 "nbformat": 4,
 "nbformat_minor": 2
}

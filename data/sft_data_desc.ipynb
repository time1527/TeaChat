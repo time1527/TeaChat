{
 "cells": [
  {
   "cell_type": "code",
   "execution_count": 7,
   "metadata": {},
   "outputs": [],
   "source": [
    "import json\n",
    "from collections import defaultdict\n",
    "import pandas as pd"
   ]
  },
  {
   "cell_type": "code",
   "execution_count": 8,
   "metadata": {},
   "outputs": [],
   "source": [
    "def show_cols(cols = ['高一','高二','高三']):\n",
    "    grade_major = defaultdict(int)\n",
    "    sample = []\n",
    "    with open(\"/home/pika/Dataset/sft/wanjuan/part-003756-a894b46e.jsonl\",\"r\") as f:\n",
    "        for line in f:\n",
    "            item = json.loads(line)       \n",
    "            if len(item[\"answer_detail\"].replace('\\n', '').replace(' ', ''))>1 and item[\"grade\"] in cols:\n",
    "                grade_major[\" \".join([item[\"grade\"],item[\"major\"]])] += 1\n",
    "            if len(sample) < 1000:sample.append(item)\n",
    "    data = grade_major\n",
    "    df = pd.DataFrame.from_dict(data, orient='index', columns=['value'])\n",
    "    df['grade'] = df.index.str.split().str[0]\n",
    "    df['major'] = df.index.str.split().str[1]\n",
    "\n",
    "    df_pivot = df.pivot(index='major', columns='grade', values='value')\n",
    "\n",
    "    df_pivot = df_pivot[cols]\n",
    "    row_order = ['语文', '英语', '数学', '物理', '生物','化学', '历史', '政治', '地理']\n",
    "    df_pivot = df_pivot.loc[row_order]\n",
    "\n",
    "    df_pivot['sum'] = df_pivot.sum(axis=1)\n",
    "    df_pivot.loc['sum'] = df_pivot.sum()\n",
    "    print(df_pivot)\n",
    "    return sample"
   ]
  },
  {
   "cell_type": "code",
   "execution_count": 9,
   "metadata": {},
   "outputs": [
    {
     "name": "stdout",
     "output_type": "stream",
     "text": [
      "grade      高一      高二      高三     sum\n",
      "major                                \n",
      "语文      17259   13319   22107   52685\n",
      "英语      19234   13894   47331   80459\n",
      "数学      25169   31463   43927  100559\n",
      "物理      17792   12043   38420   68255\n",
      "生物      43447   37153   65760  146360\n",
      "化学      33097   24430   31465   88992\n",
      "历史      45171   34552   61538  141261\n",
      "政治      60536   61227   66824  188587\n",
      "地理      10546    5151   12773   28470\n",
      "sum    272251  233232  390145  895628\n"
     ]
    }
   ],
   "source": [
    "ss = show_cols()"
   ]
  },
  {
   "cell_type": "code",
   "execution_count": 11,
   "metadata": {},
   "outputs": [
    {
     "name": "stdout",
     "output_type": "stream",
     "text": [
      "grade      高一      高二      高三     sum\n",
      "major                                \n",
      "语文      14907   11145   18816   44868\n",
      "英语      17945   12872   43088   73905\n",
      "数学      20282   24999   34575   79856\n",
      "物理      11164    7476   25802   44442\n",
      "生物      23158   19442   41070   83670\n",
      "化学      24006   17769   23272   65047\n",
      "历史      29316   21713   41826   92855\n",
      "政治      40460   40179   44741  125380\n",
      "地理       7444    3825   10390   21659\n",
      "sum    188682  159420  283580  631682\n"
     ]
    }
   ],
   "source": [
    "def show_final_cols(cols = ['高一','高二','高三']):\n",
    "    grade_major = defaultdict(int)\n",
    "    sample = []\n",
    "    with open(\"/home/pika/Dataset/sft/sft_final/wanjuan/part-003756-a894b46e.jsonl\",\"r\") as f:\n",
    "        for line in f:\n",
    "            item = json.loads(line)       \n",
    "            grade_major[\" \".join([item[\"raw\"][\"grade\"],item[\"raw\"][\"major\"]])] += 1\n",
    "            sample.append(item)\n",
    "    data = grade_major\n",
    "    df = pd.DataFrame.from_dict(data, orient='index', columns=['value'])\n",
    "    df['grade'] = df.index.str.split().str[0]\n",
    "    df['major'] = df.index.str.split().str[1]\n",
    "\n",
    "    df_pivot = df.pivot(index='major', columns='grade', values='value')\n",
    "\n",
    "    df_pivot = df_pivot[cols]\n",
    "    row_order = ['语文', '英语', '数学', '物理', '生物','化学', '历史', '政治', '地理']\n",
    "    df_pivot = df_pivot.loc[row_order]\n",
    "\n",
    "    df_pivot['sum'] = df_pivot.sum(axis=1)\n",
    "    df_pivot.loc['sum'] = df_pivot.sum()\n",
    "    print(df_pivot)\n",
    "    return sample\n",
    "st = show_final_cols()"
   ]
  },
  {
   "cell_type": "code",
   "execution_count": 15,
   "metadata": {},
   "outputs": [
    {
     "name": "stdout",
     "output_type": "stream",
     "text": [
      "105\n",
      "631681\n"
     ]
    }
   ],
   "source": [
    "wr = 0\n",
    "for idx,ob in enumerate(st):\n",
    "    if ob[\"raw\"][\"id\"] in ['BkQQZR_xK3xjTFaMdcNA','BkQQV5jxK3xjS9Dqbm00']:\n",
    "        wr += 1\n",
    "        print(idx)\n",
    "        if wr == 2:break"
   ]
  },
  {
   "cell_type": "code",
   "execution_count": 17,
   "metadata": {},
   "outputs": [
    {
     "data": {
      "text/plain": [
       "{'id': 'BkQQV5jxK3xjS9Dqbm00',\n",
       " 'q_type': '单选题',\n",
       " 'q_main': ' 下列关于洋葱根尖有丝分裂的叙述，正确的是\\n',\n",
       " 'option_a': '中心体发出星射线形成纺锤体',\n",
       " 'option_b': '同源染色体两两配对完成联会',\n",
       " 'option_c': '赤道板向四周扩展形成新的细胞壁',\n",
       " 'option_d': '染色体复制后平分到两个子细胞中',\n",
       " 'option_e': '',\n",
       " 'std_ans': 'D',\n",
       " 'answer': 'D',\n",
       " 'answer_detail': '本题考查细胞有丝分裂不同时期的特点，要求考生识记细胞有丝分裂不同时期的特点，掌握动植物细胞有丝分裂过程的异同，能结合所学的知识准确判断各选项。\\nA.洋葱根尖细胞是高等植物细胞，没有中心体，A错误；\\nB.洋葱根尖有丝分裂过程中没有同源染色体两两配对完成联会，减数分裂才有，B错误；\\nC.细胞板向四周扩展形成新的细胞壁，不是赤道板，C错误；\\n D.染色体复制后平分到两个子细胞中，D正确。\\n故选D。\\n',\n",
       " 'grade': '高二',\n",
       " 'major': '物理',\n",
       " 'keypoint': '有丝分裂的过程及意义'}"
      ]
     },
     "execution_count": 17,
     "metadata": {},
     "output_type": "execute_result"
    }
   ],
   "source": [
    "st[105][\"raw\"]"
   ]
  },
  {
   "cell_type": "code",
   "execution_count": 18,
   "metadata": {},
   "outputs": [
    {
     "data": {
      "text/plain": [
       "{'id': 'BkQQZR_xK3xjTFaMdcNA',\n",
       " 'q_type': '选择题',\n",
       " 'q_main': 'How much bread is there？  \\n-_____________．（ ）',\n",
       " 'option_a': '.none',\n",
       " 'option_b': 'all',\n",
       " 'option_c': '.nothing',\n",
       " 'option_d': '.any',\n",
       " 'option_e': '',\n",
       " 'std_ans': 'A',\n",
       " 'answer': '答案：A．问句中\"how much多少\"，none\"没有\"，表示数量上的没有，故选A．all所有的；nothing没有（东西，事情）；any任何．',\n",
       " 'answer_detail': '-那儿有多少面包？  \\n-没有了．',\n",
       " 'grade': '高三',\n",
       " 'major': '英语',\n",
       " 'keypoint': '不定代词'}"
      ]
     },
     "execution_count": 18,
     "metadata": {},
     "output_type": "execute_result"
    }
   ],
   "source": [
    "st[631681][\"raw\"]"
   ]
  },
  {
   "cell_type": "code",
   "execution_count": 3,
   "metadata": {},
   "outputs": [],
   "source": [
    "# show_cols([\"九年级\",\"八年级\",\"七年级\",\"六年级\"])"
   ]
  },
  {
   "cell_type": "code",
   "execution_count": 7,
   "metadata": {},
   "outputs": [
    {
     "data": {
      "text/plain": [
       "{'id': 'BkQQV8vxK3xjS8RhjXW8',\n",
       " 'q_type': '选择题',\n",
       " 'q_main': '枯草杆菌可以使水果腐烂，酵母菌使腐烂的水果发出酒味，这些微生物都是靠摄取水果中的物质来维持生命的，这些物质主要是（ ）',\n",
       " 'option_a': '有机物',\n",
       " 'option_b': '水分',\n",
       " 'option_c': '维生素',\n",
       " 'option_d': '无机物',\n",
       " 'option_e': '',\n",
       " 'std_ans': 'A',\n",
       " 'answer': '\\n \\n A',\n",
       " 'answer_detail': '解：细菌的基本结构有细胞壁、细胞膜、细胞质和DNA集中的区域，没有成形的细胞核，没有叶绿体；真菌的基本结构有细胞壁、细胞膜、细胞质、细胞核，没有叶绿体．因此细菌与真菌的营养方式异养，必须依靠现成的有机物维持生活．枯草杆菌可以使水果腐烂，酵母菌使腐烂的水果发出酒味，这些微生物都是靠吸收水果中的有机物来维持生命． \\n   \\n故选A． \\n   \\n此题可以从细菌真菌的结构、营养特点方面来分析解答． \\n   \\n解答此类题目的关键是熟知细菌真菌的营养特点．',\n",
       " 'grade': '八年级',\n",
       " 'major': '生物',\n",
       " 'keypoint': '细菌的生殖，蘑菇的主要特征'}"
      ]
     },
     "execution_count": 7,
     "metadata": {},
     "output_type": "execute_result"
    }
   ],
   "source": [
    "ss[-1]"
   ]
  },
  {
   "cell_type": "code",
   "execution_count": 10,
   "metadata": {},
   "outputs": [],
   "source": [
    "# with open(\"/home/pika/Project/TeaChat/data/mintest/wanjuan/3.jsonl\", \"w\") as f:\n",
    "#     for ob in ss:\n",
    "#         f.write(json.dumps(ob) + \"\\n\")"
   ]
  },
  {
   "cell_type": "code",
   "execution_count": 21,
   "metadata": {},
   "outputs": [],
   "source": [
    "coig_sample = []\n",
    "coig_major = defaultdict(int)\n",
    "with open(\"coig/exam_instructions.jsonl\",\"r\") as f:\n",
    "    for line in f:\n",
    "        item = json.loads(line)\n",
    "        if 'textbox_answer_analysis' not in item.keys():continue\n",
    "        # if isinstance(item['textbox_answer_analysis'],list):continue\n",
    "        if len(item['textbox_answer_analysis']):\n",
    "            coig_major[item[\"subject\"]] += 1\n",
    "        if len(coig_sample) < 10:coig_sample.append(item)"
   ]
  },
  {
   "cell_type": "code",
   "execution_count": 22,
   "metadata": {},
   "outputs": [
    {
     "data": {
      "text/plain": [
       "defaultdict(int,\n",
       "            {'英语': 3711,\n",
       "             '语文': 5158,\n",
       "             '政治': 8288,\n",
       "             '历史': 12772,\n",
       "             '生物': 1545,\n",
       "             '地理': 555})"
      ]
     },
     "execution_count": 22,
     "metadata": {},
     "output_type": "execute_result"
    }
   ],
   "source": [
    "coig_major"
   ]
  }
 ],
 "metadata": {
  "kernelspec": {
   "display_name": "teachat",
   "language": "python",
   "name": "python3"
  },
  "language_info": {
   "codemirror_mode": {
    "name": "ipython",
    "version": 3
   },
   "file_extension": ".py",
   "mimetype": "text/x-python",
   "name": "python",
   "nbconvert_exporter": "python",
   "pygments_lexer": "ipython3",
   "version": "3.10.14"
  }
 },
 "nbformat": 4,
 "nbformat_minor": 2
}

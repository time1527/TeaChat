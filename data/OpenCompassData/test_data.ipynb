{
 "cells": [
  {
   "cell_type": "code",
   "execution_count": 1,
   "metadata": {},
   "outputs": [],
   "source": [
    "import csv\n",
    "import json\n",
    "import jsonlines\n",
    "import os"
   ]
  },
  {
   "cell_type": "code",
   "execution_count": 2,
   "metadata": {},
   "outputs": [],
   "source": [
    "def find_files_with_extension_and_prefix(folder_path, extension, prefix=None):\n",
    "    matching_files = []\n",
    "    # 遍历文件夹\n",
    "    for root, dirs, files in os.walk(folder_path):\n",
    "        for file_name in files:\n",
    "            # 检查文件扩展名是否与指定扩展名匹配\n",
    "            if file_name.endswith('.' + extension):\n",
    "                # 如果指定了前缀，则检查文件名是否以指定前缀开头\n",
    "                if prefix is not None:\n",
    "                    if file_name.startswith(prefix):\n",
    "                        file_path = os.path.join(root, file_name)\n",
    "                        matching_files.append(file_path)\n",
    "                else:\n",
    "                    file_path = os.path.join(root, file_name)\n",
    "                    matching_files.append(file_path)\n",
    "    return matching_files"
   ]
  },
  {
   "cell_type": "code",
   "execution_count": 3,
   "metadata": {},
   "outputs": [],
   "source": [
    "def write_to_jsonl(data,output_file):\n",
    "    print(f\"There are {len(data)} items in data.\")\n",
    "    with jsonlines.open(output_file, 'w') as writer:\n",
    "        writer.write_all(data)\n",
    "    print(f\"data have been written to {output_file}.\")"
   ]
  },
  {
   "cell_type": "markdown",
   "metadata": {},
   "source": [
    "**GAOKAO-BENCH**"
   ]
  },
  {
   "cell_type": "code",
   "execution_count": 4,
   "metadata": {},
   "outputs": [],
   "source": [
    "gaokao_bench = []\n",
    "files = find_files_with_extension_and_prefix(\"GAOKAO-BENCH\",\"json\")\n",
    "for file_path in files:\n",
    "    with open(file_path, 'r', encoding='utf-8') as json_file:\n",
    "        try:\n",
    "            data = json.load(json_file)['example']\n",
    "            # 对 JSON 数据进行处理\n",
    "            for item in data:\n",
    "                gaokao_bench.append({'text':item['question']})\n",
    "            \n",
    "        except json.JSONDecodeError as e:\n",
    "            print(\"Error decoding JSON file:\", file_path)\n",
    "            print(e)\n",
    "\n",
    "# write_to_jsonl(gaokao_bench,'gaokao_bench_all.jsonl')"
   ]
  },
  {
   "cell_type": "markdown",
   "metadata": {},
   "source": [
    "**ceval**"
   ]
  },
  {
   "cell_type": "code",
   "execution_count": 5,
   "metadata": {},
   "outputs": [],
   "source": [
    "ceval = []\n",
    "files = find_files_with_extension_and_prefix(\"ceval\",\"csv\",\"high\")\n",
    "for file_path in files:\n",
    "    with open(file_path, 'r', newline='', encoding='utf-8') as file:\n",
    "        reader = csv.DictReader(file)\n",
    "        for row in reader:\n",
    "            item = \" \".join([row[\"question\"],\n",
    "                             \"A.\" + row[\"A\"],\n",
    "                             \"B.\" + row[\"B\"],\n",
    "                             \"C.\" + row[\"C\"],\n",
    "                             \"D.\" + row[\"D\"]])\n",
    "            ceval.append({\"text\":item})\n",
    "# write_to_jsonl(ceval,\"ceval_high_school_all.jsonl\")"
   ]
  },
  {
   "cell_type": "markdown",
   "metadata": {},
   "source": [
    "**cmmlu**"
   ]
  },
  {
   "cell_type": "code",
   "execution_count": 7,
   "metadata": {},
   "outputs": [
    {
     "name": "stdout",
     "output_type": "stream",
     "text": [
      "There are 866 items in data.\n",
      "data have been written to cmmlu_high_school_all.jsonl.\n"
     ]
    }
   ],
   "source": [
    "cmmlu = []\n",
    "files = find_files_with_extension_and_prefix(\"cmmlu/test\",\"csv\",\"high\")\n",
    "files.extend(find_files_with_extension_and_prefix(\"cmmlu/dev\",\"csv\",\"high\"))\n",
    "for file_path in files:\n",
    "    with open(file_path, 'r', newline='', encoding='utf-8') as file:\n",
    "        reader = csv.DictReader(file)\n",
    "        for row in reader:\n",
    "            item = \" \".join([row[\"Question\"],\n",
    "                             \"A.\" + row[\"A\"],\n",
    "                             \"B.\" + row[\"B\"],\n",
    "                             \"C.\" + row[\"C\"],\n",
    "                             \"D.\" + row[\"D\"]])\n",
    "            cmmlu.append({\"text\":item})\n",
    "write_to_jsonl(cmmlu,\"cmmlu_high_school_all.jsonl\")"
   ]
  },
  {
   "cell_type": "markdown",
   "metadata": {},
   "source": [
    "**AGIEval**"
   ]
  },
  {
   "cell_type": "code",
   "execution_count": 16,
   "metadata": {},
   "outputs": [
    {
     "name": "stdout",
     "output_type": "stream",
     "text": [
      "There are 2072 items in data.\n",
      "data have been written to agieval_high_school_all.jsonl.\n"
     ]
    }
   ],
   "source": [
    "def is_valid_key(ddict,key):\n",
    "    if key not in ddict.keys():return False\n",
    "    if ddict[key] == None:return False\n",
    "    if len(ddict[key]) == 0:return False\n",
    "    return True\n",
    "agieval = []\n",
    "files = find_files_with_extension_and_prefix(\"AGIEval/data/v1\",\"jsonl\",\"gaokao\")\n",
    "for file_path in files:\n",
    "    with jsonlines.open(file_path) as reader:\n",
    "        for item in reader:\n",
    "            text = \"\"\n",
    "            if is_valid_key(item,\"passage\"):text += item[\"passage\"]\n",
    "            if is_valid_key(item,\"question\"):text += item[\"question\"]\n",
    "            if is_valid_key(item,\"options\"):text += \"\".join(item[\"options\"])\n",
    "\n",
    "            agieval.append({'text':text})\n",
    "\n",
    "write_to_jsonl(agieval,\"agieval_high_school_all.jsonl\")"
   ]
  }
 ],
 "metadata": {
  "kernelspec": {
   "display_name": "teachat",
   "language": "python",
   "name": "python3"
  },
  "language_info": {
   "codemirror_mode": {
    "name": "ipython",
    "version": 3
   },
   "file_extension": ".py",
   "mimetype": "text/x-python",
   "name": "python",
   "nbconvert_exporter": "python",
   "pygments_lexer": "ipython3",
   "version": "3.10.14"
  }
 },
 "nbformat": 4,
 "nbformat_minor": 2
}
